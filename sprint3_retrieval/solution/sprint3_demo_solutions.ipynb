{
 "cells": [
  {
   "cell_type": "code",
   "execution_count": 3,
   "metadata": {},
   "outputs": [],
   "source": [
    "from sklearn.feature_extraction.text import TfidfVectorizer, CountVectorizer\n",
    "from sklearn.neighbors import NearestNeighbors, DistanceMetric\n",
    "import pandas as pd\n",
    "import numpy as np\n",
    "%matplotlib inline"
   ]
  },
  {
   "cell_type": "markdown",
   "metadata": {},
   "source": [
    "# Dummy example on short texts"
   ]
  },
  {
   "cell_type": "markdown",
   "metadata": {},
   "source": [
    "## Bag of word model"
   ]
  },
  {
   "cell_type": "code",
   "execution_count": 4,
   "metadata": {},
   "outputs": [],
   "source": [
    "# list of text documents\n",
    "text_test = [\"This is a test document\",\"this is a second text\",\"and here is a third text\", \"this is a dum text!\"]"
   ]
  },
  {
   "cell_type": "code",
   "execution_count": 5,
   "metadata": {},
   "outputs": [
    {
     "name": "stdout",
     "output_type": "stream",
     "text": [
      "{'this': 9, 'is': 4, 'test': 6, 'document': 1, 'second': 5, 'text': 7, 'and': 0, 'here': 3, 'third': 8, 'dum': 2}\n"
     ]
    }
   ],
   "source": [
    "# create the transform\n",
    "vectorizer_test = CountVectorizer()\n",
    "# tokenize and build vocab\n",
    "vectorizer_test.fit(text_test)\n",
    "# summarize\n",
    "print(vectorizer_test.vocabulary_)"
   ]
  },
  {
   "cell_type": "code",
   "execution_count": 6,
   "metadata": {},
   "outputs": [
    {
     "name": "stdout",
     "output_type": "stream",
     "text": [
      "[[0 1 0 0 1 0 1 0 0 1]\n",
      " [0 0 0 0 1 1 0 1 0 1]\n",
      " [1 0 0 1 1 0 0 1 1 0]\n",
      " [0 0 1 0 1 0 0 1 0 1]]\n"
     ]
    }
   ],
   "source": [
    "# encode document\n",
    "vector_test = vectorizer_test.transform(text_test)\n",
    "# summarize encoded vector\n",
    "print(vector_test.toarray())"
   ]
  },
  {
   "cell_type": "markdown",
   "metadata": {},
   "source": [
    "## TF-IDF of documents"
   ]
  },
  {
   "cell_type": "code",
   "execution_count": 7,
   "metadata": {},
   "outputs": [
    {
     "name": "stdout",
     "output_type": "stream",
     "text": [
      "{'this': 9, 'is': 4, 'test': 6, 'document': 1, 'second': 5, 'text': 7, 'and': 0, 'here': 3, 'third': 8, 'dum': 2}\n"
     ]
    }
   ],
   "source": [
    "# create the transform\n",
    "vectorizer_tfidf_test = TfidfVectorizer()\n",
    "# tokenize and build vocab\n",
    "vectorizer_tfidf_test.fit(text_test)\n",
    "# summarize\n",
    "print(vectorizer_tfidf_test.vocabulary_)"
   ]
  },
  {
   "cell_type": "code",
   "execution_count": 9,
   "metadata": {},
   "outputs": [
    {
     "name": "stdout",
     "output_type": "stream",
     "text": [
      "[[0.         0.61087812 0.         0.         0.31878155 0.\n",
      "  0.61087812 0.         0.         0.38991559]\n",
      " [0.         0.         0.         0.         0.3612126  0.69218835\n",
      "  0.         0.44181486 0.         0.44181486]\n",
      " [0.52130524 0.         0.         0.52130524 0.2720387  0.\n",
      "  0.         0.33274238 0.52130524 0.        ]\n",
      " [0.         0.         0.69218835 0.         0.3612126  0.\n",
      "  0.         0.44181486 0.         0.44181486]]\n"
     ]
    }
   ],
   "source": [
    "# encode document\n",
    "vector_tfidf_test = vectorizer_tfidf_test.transform(text_test)\n",
    "# summarize encoded vector\n",
    "print(vector_tfidf_test.toarray())"
   ]
  },
  {
   "cell_type": "markdown",
   "metadata": {},
   "source": [
    "## Compute distances between documents"
   ]
  },
  {
   "cell_type": "code",
   "execution_count": 10,
   "metadata": {},
   "outputs": [
    {
     "data": {
      "text/plain": [
       "array([[0.        , 1.19380198, 1.35150219, 1.19380198],\n",
       "       [1.19380198, 0.        , 1.2285973 , 0.97890216],\n",
       "       [1.35150219, 1.2285973 , 0.        , 1.2285973 ],\n",
       "       [1.19380198, 0.97890216, 1.2285973 , 0.        ]])"
      ]
     },
     "execution_count": 10,
     "metadata": {},
     "output_type": "execute_result"
    }
   ],
   "source": [
    "dist = DistanceMetric.get_metric('euclidean')\n",
    "dist.pairwise(vector_tfidf_test.toarray())"
   ]
  },
  {
   "cell_type": "code",
   "execution_count": 11,
   "metadata": {},
   "outputs": [
    {
     "data": {
      "text/plain": [
       "array([[0.        , 0.63350999, 0.86727068, 0.63350999],\n",
       "       [0.63350999, 0.        , 0.70539638, 0.35734507],\n",
       "       [0.86727068, 0.70539638, 0.        , 0.70539638],\n",
       "       [0.63350999, 0.35734507, 0.70539638, 0.        ]])"
      ]
     },
     "execution_count": 11,
     "metadata": {},
     "output_type": "execute_result"
    }
   ],
   "source": [
    "dist = DistanceMetric.get_metric('braycurtis')\n",
    "dist.pairwise(vector_tfidf_test.toarray())"
   ]
  },
  {
   "cell_type": "markdown",
   "metadata": {},
   "source": [
    "# Using Wikipedia abstracts"
   ]
  },
  {
   "cell_type": "markdown",
   "metadata": {},
   "source": [
    "## Import dataset"
   ]
  },
  {
   "cell_type": "code",
   "execution_count": 4,
   "metadata": {},
   "outputs": [],
   "source": [
    "# import text documents from wikipedia abstracts\n",
    "wiki_data=pd.read_csv('new_zeland_people.tsv',delimiter='\\t', index_col='name')['abstract']"
   ]
  },
  {
   "cell_type": "code",
   "execution_count": 5,
   "metadata": {},
   "outputs": [
    {
     "data": {
      "text/plain": [
       "2860"
      ]
     },
     "execution_count": 5,
     "metadata": {},
     "output_type": "execute_result"
    }
   ],
   "source": [
    "len(wiki_data)"
   ]
  },
  {
   "cell_type": "code",
   "execution_count": 6,
   "metadata": {},
   "outputs": [
    {
     "data": {
      "text/plain": [
       "name\n",
       "A. R. D. Fairburn       \"Arthur Rex Dugard \"Rex\" Fairburn (2 February ...\n",
       "Aaran Franklyn Lines    \"Aaran Franklyn Lines (born 21 December 1976 i...\n",
       "Aaran Lines             \"Aaran Franklyn Lines (born 21 December 1976 i...\n",
       "Aaron Gate              \"Aaron Gate (born 26 November 1990) is a New Z...\n",
       "Aaron Harper            \"Aaron David Harper (born 20 May 1967) is an A...\n",
       "Name: abstract, dtype: object"
      ]
     },
     "execution_count": 6,
     "metadata": {},
     "output_type": "execute_result"
    }
   ],
   "source": [
    "wiki_data.head()"
   ]
  },
  {
   "cell_type": "markdown",
   "metadata": {},
   "source": [
    "## Compute word counts"
   ]
  },
  {
   "cell_type": "code",
   "execution_count": 7,
   "metadata": {},
   "outputs": [
    {
     "data": {
      "image/png": "[encoded data removed]",
      "text/plain": [
       "<Figure size 720x432 with 1 Axes>"
      ]
     },
     "metadata": {
      "needs_background": "light"
     },
     "output_type": "display_data"
    }
   ],
   "source": [
    "name = 'Taika Waititi'\n",
    "#Extract text for a particular person\n",
    "text = wiki_data[name]\n",
    "#Define the count vectorizer that will be used to process the data\n",
    "count_vectorizer = CountVectorizer()\n",
    "#Apply this vectorizer to text to get a sparse matrix of counts\n",
    "count_matrix = count_vectorizer.fit_transform([text])\n",
    "#Get the names of the features\n",
    "features = count_vectorizer.get_feature_names()\n",
    "#Create a series from the sparse matrix\n",
    "d = pd.Series(count_matrix.toarray().flatten(), \n",
    "              index = features).sort_values(ascending=False)\n",
    "\n",
    "ax = d[:10].plot(kind='bar', figsize=(10,6), width=.8, fontsize=14, rot=45,\n",
    "            title='Taika Waititi Wikipedia Article Word Counts')\n",
    "ax.title.set_size(18)\n"
   ]
  },
  {
   "cell_type": "markdown",
   "metadata": {},
   "source": [
    "## Compute TF-IDF"
   ]
  },
  {
   "cell_type": "code",
   "execution_count": 8,
   "metadata": {},
   "outputs": [
    {
     "data": {
      "image/png": "[encoded data removed]",
      "text/plain": [
       "<Figure size 720x432 with 1 Axes>"
      ]
     },
     "metadata": {
      "needs_background": "light"
     },
     "output_type": "display_data"
    }
   ],
   "source": [
    "#Define the TFIDF vectorizer that will be used to process the data\n",
    "tfidf_vectorizer = TfidfVectorizer()\n",
    "#Apply this vectorizer to the full dataset to create normalized vectors\n",
    "tfidf_matrix = tfidf_vectorizer.fit_transform(wiki_data)\n",
    "#Get the names of the features\n",
    "features = tfidf_vectorizer.get_feature_names()\n",
    "#get the row that contains relevant vector\n",
    "row = wiki_data.index.get_loc(name)\n",
    "#Create a series from the sparse matrix\n",
    "d = pd.Series(tfidf_matrix.getrow(row).toarray().flatten(), index = features).sort_values(ascending=False)\n",
    "\n",
    "ax = d[:10].plot(kind='bar', title='Taika Waititi Wikipedia Article Word TF-IDF Values',\n",
    "            figsize=(10,6), width=.8, fontsize=14, rot=45 )\n",
    "ax.title.set_size(20)"
   ]
  },
  {
   "cell_type": "markdown",
   "metadata": {},
   "source": [
    "## Search the kNN"
   ]
  },
  {
   "cell_type": "code",
   "execution_count": 9,
   "metadata": {},
   "outputs": [],
   "source": [
    "nbrs = NearestNeighbors(n_neighbors=10, metric='cosine').fit(tfidf_matrix)\n",
    "distances, indices = nbrs.kneighbors()\n",
    "\n",
    "def get_closest_neighs(name):\n",
    "    row = wiki_data.index.get_loc(name)\n",
    "    result = pd.DataFrame({'names':wiki_data.iloc[indices[row],].reset_index()['name'],\n",
    "                           'distance': distances[row].flatten()})\n",
    "    return result"
   ]
  },
  {
   "cell_type": "code",
   "execution_count": 12,
   "metadata": {},
   "outputs": [
    {
     "data": {
      "text/html": [
       "<div>\n",
       "<style scoped>\n",
       "    .dataframe tbody tr th:only-of-type {\n",
       "        vertical-align: middle;\n",
       "    }\n",
       "\n",
       "    .dataframe tbody tr th {\n",
       "        vertical-align: top;\n",
       "    }\n",
       "\n",
       "    .dataframe thead th {\n",
       "        text-align: right;\n",
       "    }\n",
       "</style>\n",
       "<table border=\"1\" class=\"dataframe\">\n",
       "  <thead>\n",
       "    <tr style=\"text-align: right;\">\n",
       "      <th></th>\n",
       "      <th>names</th>\n",
       "      <th>distance</th>\n",
       "    </tr>\n",
       "  </thead>\n",
       "  <tbody>\n",
       "    <tr>\n",
       "      <th>0</th>\n",
       "      <td>Julian Dennison</td>\n",
       "      <td>0.660181</td>\n",
       "    </tr>\n",
       "    <tr>\n",
       "      <th>1</th>\n",
       "      <td>James Napier Robertson</td>\n",
       "      <td>0.732818</td>\n",
       "    </tr>\n",
       "    <tr>\n",
       "      <th>2</th>\n",
       "      <td>Elsie Jane Wilson</td>\n",
       "      <td>0.768437</td>\n",
       "    </tr>\n",
       "    <tr>\n",
       "      <th>3</th>\n",
       "      <td>Shayne Biddle</td>\n",
       "      <td>0.770290</td>\n",
       "    </tr>\n",
       "    <tr>\n",
       "      <th>4</th>\n",
       "      <td>David Hannay</td>\n",
       "      <td>0.780479</td>\n",
       "    </tr>\n",
       "    <tr>\n",
       "      <th>5</th>\n",
       "      <td>Russell Crowe</td>\n",
       "      <td>0.786320</td>\n",
       "    </tr>\n",
       "    <tr>\n",
       "      <th>6</th>\n",
       "      <td>Jamie Selkirk</td>\n",
       "      <td>0.787253</td>\n",
       "    </tr>\n",
       "    <tr>\n",
       "      <th>7</th>\n",
       "      <td>Stephen Kay</td>\n",
       "      <td>0.793299</td>\n",
       "    </tr>\n",
       "    <tr>\n",
       "      <th>8</th>\n",
       "      <td>Roger Oakley</td>\n",
       "      <td>0.800582</td>\n",
       "    </tr>\n",
       "    <tr>\n",
       "      <th>9</th>\n",
       "      <td>Barbara Sumner-Burstyn</td>\n",
       "      <td>0.814267</td>\n",
       "    </tr>\n",
       "  </tbody>\n",
       "</table>\n",
       "</div>"
      ],
      "text/plain": [
       "                    names  distance\n",
       "0         Julian Dennison  0.660181\n",
       "1  James Napier Robertson  0.732818\n",
       "2       Elsie Jane Wilson  0.768437\n",
       "3           Shayne Biddle  0.770290\n",
       "4            David Hannay  0.780479\n",
       "5           Russell Crowe  0.786320\n",
       "6           Jamie Selkirk  0.787253\n",
       "7             Stephen Kay  0.793299\n",
       "8            Roger Oakley  0.800582\n",
       "9  Barbara Sumner-Burstyn  0.814267"
      ]
     },
     "execution_count": 12,
     "metadata": {},
     "output_type": "execute_result"
    }
   ],
   "source": [
    "get_closest_neighs('Taika Waititi')"
   ]
  },
  {
   "cell_type": "code",
   "execution_count": 13,
   "metadata": {},
   "outputs": [],
   "source": [
    "nbrs = NearestNeighbors(n_neighbors=10, metric='euclidean').fit(tfidf_matrix)\n",
    "distances, indices = nbrs.kneighbors()\n",
    "\n",
    "def get_closest_neighs(name):\n",
    "    row = wiki_data.index.get_loc(name)\n",
    "    result = pd.DataFrame({'names':wiki_data.iloc[indices[row],].reset_index()['name'],\n",
    "                           'distance': distances[row].flatten()})\n",
    "    return result"
   ]
  },
  {
   "cell_type": "code",
   "execution_count": 14,
   "metadata": {},
   "outputs": [
    {
     "data": {
      "text/html": [
       "<div>\n",
       "<style scoped>\n",
       "    .dataframe tbody tr th:only-of-type {\n",
       "        vertical-align: middle;\n",
       "    }\n",
       "\n",
       "    .dataframe tbody tr th {\n",
       "        vertical-align: top;\n",
       "    }\n",
       "\n",
       "    .dataframe thead th {\n",
       "        text-align: right;\n",
       "    }\n",
       "</style>\n",
       "<table border=\"1\" class=\"dataframe\">\n",
       "  <thead>\n",
       "    <tr style=\"text-align: right;\">\n",
       "      <th></th>\n",
       "      <th>names</th>\n",
       "      <th>distance</th>\n",
       "    </tr>\n",
       "  </thead>\n",
       "  <tbody>\n",
       "    <tr>\n",
       "      <th>0</th>\n",
       "      <td>Mike Day</td>\n",
       "      <td>1.130892</td>\n",
       "    </tr>\n",
       "    <tr>\n",
       "      <th>1</th>\n",
       "      <td>Tina Osborne</td>\n",
       "      <td>1.165842</td>\n",
       "    </tr>\n",
       "    <tr>\n",
       "      <th>2</th>\n",
       "      <td>Craig Caldwell</td>\n",
       "      <td>1.211612</td>\n",
       "    </tr>\n",
       "    <tr>\n",
       "      <th>3</th>\n",
       "      <td>Peter Hunt</td>\n",
       "      <td>1.237124</td>\n",
       "    </tr>\n",
       "    <tr>\n",
       "      <th>4</th>\n",
       "      <td>Preston Ridd</td>\n",
       "      <td>1.248290</td>\n",
       "    </tr>\n",
       "    <tr>\n",
       "      <th>5</th>\n",
       "      <td>Cody Harris</td>\n",
       "      <td>1.255030</td>\n",
       "    </tr>\n",
       "    <tr>\n",
       "      <th>6</th>\n",
       "      <td>Phillip Hazel</td>\n",
       "      <td>1.261450</td>\n",
       "    </tr>\n",
       "    <tr>\n",
       "      <th>7</th>\n",
       "      <td>Bernie Smith</td>\n",
       "      <td>1.263866</td>\n",
       "    </tr>\n",
       "    <tr>\n",
       "      <th>8</th>\n",
       "      <td>Rob Szabo</td>\n",
       "      <td>1.269636</td>\n",
       "    </tr>\n",
       "    <tr>\n",
       "      <th>9</th>\n",
       "      <td>Elias Scheres</td>\n",
       "      <td>1.275467</td>\n",
       "    </tr>\n",
       "  </tbody>\n",
       "</table>\n",
       "</div>"
      ],
      "text/plain": [
       "            names  distance\n",
       "0        Mike Day  1.130892\n",
       "1    Tina Osborne  1.165842\n",
       "2  Craig Caldwell  1.211612\n",
       "3      Peter Hunt  1.237124\n",
       "4    Preston Ridd  1.248290\n",
       "5     Cody Harris  1.255030\n",
       "6   Phillip Hazel  1.261450\n",
       "7    Bernie Smith  1.263866\n",
       "8       Rob Szabo  1.269636\n",
       "9   Elias Scheres  1.275467"
      ]
     },
     "execution_count": 14,
     "metadata": {},
     "output_type": "execute_result"
    }
   ],
   "source": [
    "# Find the closest neighbors for Alan Bolton\n",
    "get_closest_neighs('Alan Bolton')"
   ]
  },
  {
   "cell_type": "markdown",
   "metadata": {},
   "source": [
    "# Metagenomes as text documents"
   ]
  },
  {
   "cell_type": "code",
   "execution_count": 17,
   "metadata": {},
   "outputs": [
    {
     "data": {
      "text/plain": [
       "ID\n",
       "sample_1     stool\n",
       "sample_2     stool\n",
       "sample_3    tongue\n",
       "sample_4    tongue\n",
       "sample_5    dental\n",
       "sample_6     stool\n",
       "Name: body_site, dtype: object"
      ]
     },
     "execution_count": 17,
     "metadata": {},
     "output_type": "execute_result"
    }
   ],
   "source": [
    "# import the Bray-curtis distance matrix and metagenome description\n",
    "\n",
    "bc_25bp=pd.read_csv('SIMKA_results/bc_25.csv', header=None)\n",
    "\n",
    "samples=pd.read_csv('SIMKA_results/metagenomes_description.csv', index_col='ID')['body_site']\n",
    "\n",
    "samples"
   ]
  },
  {
   "cell_type": "code",
   "execution_count": 18,
   "metadata": {},
   "outputs": [],
   "source": [
    "# create a 2-NN search for the samples\n",
    "nbrs = NearestNeighbors(n_neighbors=2, metric='precomputed').fit(bc_25bp)\n",
    "distances, indices = nbrs.kneighbors()\n",
    "\n",
    "def get_closest_neighs(ID):\n",
    "    row = samples.index.get_loc(ID)\n",
    "    result = pd.DataFrame({'ID':samples.iloc[indices[row],].reset_index()['ID'], 'distance':distances[row].flatten(),\n",
    "                          'body_site': samples.iloc[indices[row],].reset_index()['body_site']})\n",
    "    return result"
   ]
  },
  {
   "cell_type": "code",
   "execution_count": 19,
   "metadata": {},
   "outputs": [
    {
     "data": {
      "text/html": [
       "<div>\n",
       "<style scoped>\n",
       "    .dataframe tbody tr th:only-of-type {\n",
       "        vertical-align: middle;\n",
       "    }\n",
       "\n",
       "    .dataframe tbody tr th {\n",
       "        vertical-align: top;\n",
       "    }\n",
       "\n",
       "    .dataframe thead th {\n",
       "        text-align: right;\n",
       "    }\n",
       "</style>\n",
       "<table border=\"1\" class=\"dataframe\">\n",
       "  <thead>\n",
       "    <tr style=\"text-align: right;\">\n",
       "      <th></th>\n",
       "      <th>ID</th>\n",
       "      <th>distance</th>\n",
       "      <th>body_site</th>\n",
       "    </tr>\n",
       "  </thead>\n",
       "  <tbody>\n",
       "    <tr>\n",
       "      <th>0</th>\n",
       "      <td>sample_2</td>\n",
       "      <td>0.821734</td>\n",
       "      <td>stool</td>\n",
       "    </tr>\n",
       "    <tr>\n",
       "      <th>1</th>\n",
       "      <td>sample_1</td>\n",
       "      <td>0.876150</td>\n",
       "      <td>stool</td>\n",
       "    </tr>\n",
       "  </tbody>\n",
       "</table>\n",
       "</div>"
      ],
      "text/plain": [
       "         ID  distance body_site\n",
       "0  sample_2  0.821734     stool\n",
       "1  sample_1  0.876150     stool"
      ]
     },
     "execution_count": 19,
     "metadata": {},
     "output_type": "execute_result"
    }
   ],
   "source": [
    "# Retrieve the two NN for 'sample_6'\n",
    "get_closest_neighs('sample_6')"
   ]
  }
 ],
 "metadata": {
  "kernelspec": {
   "display_name": "Python 3",
   "language": "python",
   "name": "python3"
  },
  "language_info": {
   "codemirror_mode": {
    "name": "ipython",
    "version": 3
   },
   "file_extension": ".py",
   "mimetype": "text/x-python",
   "name": "python",
   "nbconvert_exporter": "python",
   "pygments_lexer": "ipython3",
   "version": "3.7.6"
  }
 },
 "nbformat": 4,
 "nbformat_minor": 4
}
