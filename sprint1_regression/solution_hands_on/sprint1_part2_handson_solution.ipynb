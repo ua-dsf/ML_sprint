{
 "cells": [
  {
   "cell_type": "code",
   "execution_count": 1,
   "metadata": {},
   "outputs": [],
   "source": [
    "import pandas as pd  \n",
    "import numpy as np  \n",
    "import math\n",
    "import random\n",
    "import operator\n",
    "import matplotlib.pyplot as plt  \n",
    "from sklearn.linear_model import LinearRegression\n",
    "from sklearn.model_selection import train_test_split \n",
    "from sklearn import linear_model\n",
    "from sklearn.linear_model import Ridge\n",
    "from sklearn.linear_model import Lasso\n",
    "from sklearn import metrics\n",
    "from sklearn.metrics import mean_squared_error, r2_score\n",
    "from sklearn.preprocessing import PolynomialFeatures\n",
    "from sklearn.linear_model import Ridge\n",
    "from sklearn.metrics import mean_squared_error\n",
    "from sklearn.datasets import make_regression\n",
    "from sklearn.model_selection import KFold\n",
    "from sklearn.model_selection import GridSearchCV\n",
    "%matplotlib inline"
   ]
  },
  {
   "cell_type": "markdown",
   "metadata": {},
   "source": [
    "# Creation dataset"
   ]
  },
  {
   "cell_type": "code",
   "execution_count": 2,
   "metadata": {},
   "outputs": [],
   "source": [
    "random.seed(98103)\n",
    "n = 50\n",
    "x = np.array([random.random() for i in range(n)])\n",
    "sin = lambda x: math.sin(4*x)\n",
    "vsin = np.vectorize(sin)\n",
    "y = vsin(x)"
   ]
  },
  {
   "cell_type": "markdown",
   "metadata": {},
   "source": [
    "Adding Gaussian noise to dataset"
   ]
  },
  {
   "cell_type": "code",
   "execution_count": 3,
   "metadata": {},
   "outputs": [],
   "source": [
    "random.seed(1)\n",
    "e = np.array([random.gauss(0,1.0/3.0) for i in range(n)])\n",
    "y = y + e"
   ]
  },
  {
   "cell_type": "code",
   "execution_count": 4,
   "metadata": {},
   "outputs": [
    {
     "data": {
      "image/png": "[encoded data removed]",
      "text/plain": [
       "<Figure size 432x288 with 1 Axes>"
      ]
     },
     "metadata": {
      "needs_background": "light"
     },
     "output_type": "display_data"
    }
   ],
   "source": [
    "plt.scatter(x,y, s=10)\n",
    "plt.title(\"random samples\")\n",
    "plt.xlabel('X')  \n",
    "plt.ylabel('Y') \n",
    "plt.show()"
   ]
  },
  {
   "cell_type": "code",
   "execution_count": 5,
   "metadata": {},
   "outputs": [
    {
     "data": {
      "text/html": [
       "<div>\n",
       "<style scoped>\n",
       "    .dataframe tbody tr th:only-of-type {\n",
       "        vertical-align: middle;\n",
       "    }\n",
       "\n",
       "    .dataframe tbody tr th {\n",
       "        vertical-align: top;\n",
       "    }\n",
       "\n",
       "    .dataframe thead th {\n",
       "        text-align: right;\n",
       "    }\n",
       "</style>\n",
       "<table border=\"1\" class=\"dataframe\">\n",
       "  <thead>\n",
       "    <tr style=\"text-align: right;\">\n",
       "      <th></th>\n",
       "      <th>X1</th>\n",
       "      <th>Y</th>\n",
       "    </tr>\n",
       "  </thead>\n",
       "  <tbody>\n",
       "    <tr>\n",
       "      <th>0</th>\n",
       "      <td>0.259901</td>\n",
       "      <td>1.291599</td>\n",
       "    </tr>\n",
       "    <tr>\n",
       "      <th>1</th>\n",
       "      <td>0.645010</td>\n",
       "      <td>1.015651</td>\n",
       "    </tr>\n",
       "    <tr>\n",
       "      <th>2</th>\n",
       "      <td>0.041568</td>\n",
       "      <td>0.187619</td>\n",
       "    </tr>\n",
       "    <tr>\n",
       "      <th>3</th>\n",
       "      <td>0.646758</td>\n",
       "      <td>0.271723</td>\n",
       "    </tr>\n",
       "    <tr>\n",
       "      <th>4</th>\n",
       "      <td>0.904388</td>\n",
       "      <td>-0.822251</td>\n",
       "    </tr>\n",
       "  </tbody>\n",
       "</table>\n",
       "</div>"
      ],
      "text/plain": [
       "         X1         Y\n",
       "0  0.259901  1.291599\n",
       "1  0.645010  1.015651\n",
       "2  0.041568  0.187619\n",
       "3  0.646758  0.271723\n",
       "4  0.904388 -0.822251"
      ]
     },
     "execution_count": 5,
     "metadata": {},
     "output_type": "execute_result"
    }
   ],
   "source": [
    "data= pd.DataFrame({'X1': x, 'Y': y})\n",
    "data.head()"
   ]
  },
  {
   "cell_type": "markdown",
   "metadata": {},
   "source": [
    "# Define a linear fit"
   ]
  },
  {
   "cell_type": "code",
   "execution_count": 6,
   "metadata": {},
   "outputs": [],
   "source": [
    "# transforming the data to be vertical axis\n",
    "X = np.vstack(x)\n",
    "Y = np.vstack(y)\n",
    "\n",
    "# Split the data into training/testing sets\n",
    "X_train, X_test, Y_train, Y_test = train_test_split(X, Y, test_size=0.2)"
   ]
  },
  {
   "cell_type": "code",
   "execution_count": 7,
   "metadata": {},
   "outputs": [
    {
     "data": {
      "image/png": "[encoded data removed]",
      "text/plain": [
       "<Figure size 432x288 with 1 Axes>"
      ]
     },
     "metadata": {
      "needs_background": "light"
     },
     "output_type": "display_data"
    }
   ],
   "source": [
    "# fit linear model\n",
    "model = LinearRegression()\n",
    "model.fit(X_train, Y_train)\n",
    "\n",
    "# create the predictions on the training set for plot\n",
    "Y_pred = model.predict(X_train)\n",
    "plt.scatter(X, Y, s=10)\n",
    "plt.plot(X_train, Y_pred, color='r')\n",
    "plt.title(\"Linear fit\")\n",
    "plt.xlabel('X')  \n",
    "plt.ylabel('Y') \n",
    "plt.show()"
   ]
  },
  {
   "cell_type": "code",
   "execution_count": 8,
   "metadata": {},
   "outputs": [
    {
     "name": "stdout",
     "output_type": "stream",
     "text": [
      "RMSE: 0.36028299638501077\n"
     ]
    }
   ],
   "source": [
    "Y_pred = model.predict(X_test)\n",
    "# compute RMSE\n",
    "rmse = np.sqrt(mean_squared_error(Y_test,Y_pred))\n",
    "print(\"RMSE:\", rmse)"
   ]
  },
  {
   "cell_type": "code",
   "execution_count": 9,
   "metadata": {},
   "outputs": [
    {
     "data": {
      "text/html": [
       "<div>\n",
       "<style scoped>\n",
       "    .dataframe tbody tr th:only-of-type {\n",
       "        vertical-align: middle;\n",
       "    }\n",
       "\n",
       "    .dataframe tbody tr th {\n",
       "        vertical-align: top;\n",
       "    }\n",
       "\n",
       "    .dataframe thead th {\n",
       "        text-align: right;\n",
       "    }\n",
       "</style>\n",
       "<table border=\"1\" class=\"dataframe\">\n",
       "  <thead>\n",
       "    <tr style=\"text-align: right;\">\n",
       "      <th></th>\n",
       "      <th>Actual</th>\n",
       "      <th>Predicted</th>\n",
       "    </tr>\n",
       "  </thead>\n",
       "  <tbody>\n",
       "    <tr>\n",
       "      <th>0</th>\n",
       "      <td>0.187619</td>\n",
       "      <td>1.038025</td>\n",
       "    </tr>\n",
       "    <tr>\n",
       "      <th>1</th>\n",
       "      <td>1.030213</td>\n",
       "      <td>0.578628</td>\n",
       "    </tr>\n",
       "    <tr>\n",
       "      <th>2</th>\n",
       "      <td>0.134681</td>\n",
       "      <td>0.357915</td>\n",
       "    </tr>\n",
       "    <tr>\n",
       "      <th>3</th>\n",
       "      <td>-0.259203</td>\n",
       "      <td>0.021479</td>\n",
       "    </tr>\n",
       "    <tr>\n",
       "      <th>4</th>\n",
       "      <td>0.669617</td>\n",
       "      <td>0.831747</td>\n",
       "    </tr>\n",
       "  </tbody>\n",
       "</table>\n",
       "</div>"
      ],
      "text/plain": [
       "     Actual  Predicted\n",
       "0  0.187619   1.038025\n",
       "1  1.030213   0.578628\n",
       "2  0.134681   0.357915\n",
       "3 -0.259203   0.021479\n",
       "4  0.669617   0.831747"
      ]
     },
     "execution_count": 9,
     "metadata": {},
     "output_type": "execute_result"
    }
   ],
   "source": [
    "# Print predictions\n",
    "pred_df = pd.DataFrame({'Actual': Y_test.flatten(), 'Predicted': Y_pred.flatten()})\n",
    "pred_df.head()"
   ]
  },
  {
   "cell_type": "markdown",
   "metadata": {},
   "source": [
    "# define a polynomial fit"
   ]
  },
  {
   "cell_type": "markdown",
   "metadata": {},
   "source": [
    "## Second degree polynomial"
   ]
  },
  {
   "cell_type": "code",
   "execution_count": 10,
   "metadata": {},
   "outputs": [
    {
     "data": {
      "text/html": [
       "<div>\n",
       "<style scoped>\n",
       "    .dataframe tbody tr th:only-of-type {\n",
       "        vertical-align: middle;\n",
       "    }\n",
       "\n",
       "    .dataframe tbody tr th {\n",
       "        vertical-align: top;\n",
       "    }\n",
       "\n",
       "    .dataframe thead th {\n",
       "        text-align: right;\n",
       "    }\n",
       "</style>\n",
       "<table border=\"1\" class=\"dataframe\">\n",
       "  <thead>\n",
       "    <tr style=\"text-align: right;\">\n",
       "      <th></th>\n",
       "      <th>0</th>\n",
       "      <th>1</th>\n",
       "      <th>2</th>\n",
       "    </tr>\n",
       "  </thead>\n",
       "  <tbody>\n",
       "    <tr>\n",
       "      <th>0</th>\n",
       "      <td>1.0</td>\n",
       "      <td>0.259901</td>\n",
       "      <td>0.067549</td>\n",
       "    </tr>\n",
       "    <tr>\n",
       "      <th>1</th>\n",
       "      <td>1.0</td>\n",
       "      <td>0.645010</td>\n",
       "      <td>0.416037</td>\n",
       "    </tr>\n",
       "    <tr>\n",
       "      <th>2</th>\n",
       "      <td>1.0</td>\n",
       "      <td>0.041568</td>\n",
       "      <td>0.001728</td>\n",
       "    </tr>\n",
       "    <tr>\n",
       "      <th>3</th>\n",
       "      <td>1.0</td>\n",
       "      <td>0.646758</td>\n",
       "      <td>0.418295</td>\n",
       "    </tr>\n",
       "    <tr>\n",
       "      <th>4</th>\n",
       "      <td>1.0</td>\n",
       "      <td>0.904388</td>\n",
       "      <td>0.817919</td>\n",
       "    </tr>\n",
       "  </tbody>\n",
       "</table>\n",
       "</div>"
      ],
      "text/plain": [
       "     0         1         2\n",
       "0  1.0  0.259901  0.067549\n",
       "1  1.0  0.645010  0.416037\n",
       "2  1.0  0.041568  0.001728\n",
       "3  1.0  0.646758  0.418295\n",
       "4  1.0  0.904388  0.817919"
      ]
     },
     "execution_count": 10,
     "metadata": {},
     "output_type": "execute_result"
    }
   ],
   "source": [
    "# creates the polynomial features\n",
    "polynomial_features= PolynomialFeatures(degree=2)\n",
    "X_poly = polynomial_features.fit_transform(X)\n",
    "\n",
    "df_poly= pd.DataFrame(X_poly)\n",
    "df_poly.head()"
   ]
  },
  {
   "cell_type": "code",
   "execution_count": 11,
   "metadata": {},
   "outputs": [],
   "source": [
    "# Split the data into training/testing sets\n",
    "X_poly_train, X_poly_test, Y_poly_train, Y_poly_test = train_test_split(X_poly, Y, test_size=0.2)"
   ]
  },
  {
   "cell_type": "code",
   "execution_count": 12,
   "metadata": {},
   "outputs": [
    {
     "data": {
      "text/plain": [
       "LinearRegression(copy_X=True, fit_intercept=True, n_jobs=None,\n",
       "         normalize=False)"
      ]
     },
     "execution_count": 12,
     "metadata": {},
     "output_type": "execute_result"
    }
   ],
   "source": [
    "# fit model\n",
    "model = LinearRegression()\n",
    "model.fit(X_poly_train, Y_poly_train)"
   ]
  },
  {
   "cell_type": "code",
   "execution_count": 13,
   "metadata": {},
   "outputs": [
    {
     "data": {
      "image/png": "[encoded data removed]",
      "text/plain": [
       "<Figure size 432x288 with 1 Axes>"
      ]
     },
     "metadata": {
      "needs_background": "light"
     },
     "output_type": "display_data"
    }
   ],
   "source": [
    "# Make predictions for plot\n",
    "Y_poly_pred = model.predict(X_poly_train)\n",
    "X_train=X_poly_train[ : , 1]\n",
    "\n",
    "plt.scatter(X, Y, s=10)\n",
    "# sort the values of x before line plot\n",
    "sort_axis = operator.itemgetter(0)\n",
    "sorted_zip = sorted(zip(X_train,Y_poly_pred), key=sort_axis)\n",
    "X_test_z, Y_poly_pred = zip(*sorted_zip)\n",
    "plt.plot(X_test_z, Y_poly_pred, color='m')\n",
    "plt.show()"
   ]
  },
  {
   "cell_type": "code",
   "execution_count": 14,
   "metadata": {},
   "outputs": [
    {
     "name": "stdout",
     "output_type": "stream",
     "text": [
      "0.2599887954687335\n"
     ]
    }
   ],
   "source": [
    "Y_poly_pred = model.predict(X_poly_test)\n",
    "# compute RMSE\n",
    "rmse = np.sqrt(mean_squared_error(Y_poly_test,Y_poly_pred))\n",
    "print(rmse)"
   ]
  },
  {
   "cell_type": "code",
   "execution_count": 15,
   "metadata": {},
   "outputs": [
    {
     "name": "stdout",
     "output_type": "stream",
     "text": [
      "Coefficients: \n",
      " [[ 0.          3.96871171 -5.10557165]]\n"
     ]
    }
   ],
   "source": [
    "# The coefficients\n",
    "print('Coefficients: \\n', model.coef_)"
   ]
  },
  {
   "cell_type": "markdown",
   "metadata": {},
   "source": [
    "## 4th order polynomial"
   ]
  },
  {
   "cell_type": "code",
   "execution_count": 16,
   "metadata": {},
   "outputs": [],
   "source": [
    "# creates the polynomial features\n",
    "polynomial_features= PolynomialFeatures(degree=4)\n",
    "X_poly = polynomial_features.fit_transform(X)\n",
    "\n",
    "# Split the data into training/testing sets\n",
    "X_poly_train, X_poly_test, Y_poly_train, Y_poly_test = train_test_split(X_poly, Y, test_size=0.1)"
   ]
  },
  {
   "cell_type": "code",
   "execution_count": 17,
   "metadata": {},
   "outputs": [
    {
     "data": {
      "text/plain": [
       "LinearRegression(copy_X=True, fit_intercept=True, n_jobs=None,\n",
       "         normalize=False)"
      ]
     },
     "execution_count": 17,
     "metadata": {},
     "output_type": "execute_result"
    }
   ],
   "source": [
    "# fit model\n",
    "model = LinearRegression()\n",
    "model.fit(X_poly_train, Y_poly_train)"
   ]
  },
  {
   "cell_type": "code",
   "execution_count": 18,
   "metadata": {},
   "outputs": [
    {
     "data": {
      "image/png": "[encoded data removed]",
      "text/plain": [
       "<Figure size 432x288 with 1 Axes>"
      ]
     },
     "metadata": {
      "needs_background": "light"
     },
     "output_type": "display_data"
    }
   ],
   "source": [
    "# Make predictions for plot\n",
    "Y_poly_pred = model.predict(X_poly_train)\n",
    "X_train=X_poly_train[ : , 1]\n",
    "\n",
    "plt.scatter(X, Y, s=10)\n",
    "# sort the values of x before line plot\n",
    "sort_axis = operator.itemgetter(0)\n",
    "sorted_zip = sorted(zip(X_train,Y_poly_pred), key=sort_axis)\n",
    "X_test_z, Y_poly_pred = zip(*sorted_zip)\n",
    "plt.plot(X_test_z, Y_poly_pred, color='m')\n",
    "plt.show()"
   ]
  },
  {
   "cell_type": "code",
   "execution_count": 19,
   "metadata": {},
   "outputs": [
    {
     "name": "stdout",
     "output_type": "stream",
     "text": [
      "0.3571679492251173\n"
     ]
    }
   ],
   "source": [
    "Y_poly_pred = model.predict(X_poly_test)\n",
    "# compute RMSE\n",
    "rmse = np.sqrt(mean_squared_error(Y_poly_test,Y_poly_pred))\n",
    "print(rmse)"
   ]
  },
  {
   "cell_type": "code",
   "execution_count": 20,
   "metadata": {},
   "outputs": [
    {
     "name": "stdout",
     "output_type": "stream",
     "text": [
      "Coefficients: \n",
      " [[  0.           2.73676547   4.80316986 -20.09810687  11.88203401]]\n"
     ]
    }
   ],
   "source": [
    "# The coefficients\n",
    "print('Coefficients: \\n', model.coef_)"
   ]
  },
  {
   "cell_type": "markdown",
   "metadata": {},
   "source": [
    "## high order polynomial"
   ]
  },
  {
   "cell_type": "code",
   "execution_count": 21,
   "metadata": {},
   "outputs": [],
   "source": [
    "# creates the polynomial features\n",
    "polynomial_features= PolynomialFeatures(degree=20)\n",
    "X_poly = polynomial_features.fit_transform(X)\n",
    "\n",
    "# Split the data into training/testing sets\n",
    "X_poly_train, X_poly_test, Y_poly_train, Y_poly_test = train_test_split(X_poly, Y, test_size=0.1)"
   ]
  },
  {
   "cell_type": "code",
   "execution_count": 22,
   "metadata": {},
   "outputs": [
    {
     "data": {
      "text/plain": [
       "LinearRegression(copy_X=True, fit_intercept=True, n_jobs=None,\n",
       "         normalize=False)"
      ]
     },
     "execution_count": 22,
     "metadata": {},
     "output_type": "execute_result"
    }
   ],
   "source": [
    "# fit model\n",
    "model = LinearRegression()\n",
    "model.fit(X_poly_train, Y_poly_train)"
   ]
  },
  {
   "cell_type": "code",
   "execution_count": 23,
   "metadata": {},
   "outputs": [
    {
     "data": {
      "image/png": "[encoded data removed]",
      "text/plain": [
       "<Figure size 432x288 with 1 Axes>"
      ]
     },
     "metadata": {
      "needs_background": "light"
     },
     "output_type": "display_data"
    }
   ],
   "source": [
    "# Make predictions for plot\n",
    "Y_poly_pred = model.predict(X_poly_train)\n",
    "X_train=X_poly_train[ : , 1]\n",
    "\n",
    "plt.scatter(X, Y, s=10)\n",
    "# sort the values of x before line plot\n",
    "sort_axis = operator.itemgetter(0)\n",
    "sorted_zip = sorted(zip(X_train,Y_poly_pred), key=sort_axis)\n",
    "X_test_z, Y_poly_pred = zip(*sorted_zip)\n",
    "plt.plot(X_test_z, Y_poly_pred, color='m')\n",
    "plt.show()"
   ]
  },
  {
   "cell_type": "code",
   "execution_count": 24,
   "metadata": {},
   "outputs": [
    {
     "name": "stdout",
     "output_type": "stream",
     "text": [
      "0.3695587711518626\n"
     ]
    }
   ],
   "source": [
    "Y_poly_pred = model.predict(X_poly_test)\n",
    "# compute RMSE\n",
    "rmse = np.sqrt(mean_squared_error(Y_poly_test,Y_poly_pred))\n",
    "print(rmse)"
   ]
  },
  {
   "cell_type": "code",
   "execution_count": 25,
   "metadata": {},
   "outputs": [
    {
     "name": "stdout",
     "output_type": "stream",
     "text": [
      "Coefficients: \n",
      " [[ 0.00000000e+00 -6.83277328e+03  3.33727715e+05 -8.90666401e+06\n",
      "   1.48130714e+08 -1.65378981e+09  1.29993131e+10 -7.42621591e+10\n",
      "   3.14693281e+11 -9.99771475e+11  2.38142651e+12 -4.18823778e+12\n",
      "   5.18462585e+12 -3.84810148e+12  1.87867579e+11  3.52244639e+12\n",
      "  -4.80758109e+12  3.54611910e+12 -1.59815505e+12  4.15584976e+11\n",
      "  -4.81397354e+10]]\n"
     ]
    }
   ],
   "source": [
    "# The coefficients\n",
    "print('Coefficients: \\n', model.coef_)"
   ]
  },
  {
   "cell_type": "markdown",
   "metadata": {},
   "source": [
    "## Ridge regularization on Polynomial fit"
   ]
  },
  {
   "cell_type": "code",
   "execution_count": 26,
   "metadata": {},
   "outputs": [
    {
     "data": {
      "text/plain": [
       "Ridge(alpha=6, copy_X=True, fit_intercept=True, max_iter=None,\n",
       "   normalize=False, random_state=None, solver='auto', tol=0.001)"
      ]
     },
     "execution_count": 26,
     "metadata": {},
     "output_type": "execute_result"
    }
   ],
   "source": [
    "# train model\n",
    "clf = Ridge()\n",
    "clf.set_params(alpha=6)\n",
    "clf.fit(X_poly_train, Y_poly_train)"
   ]
  },
  {
   "cell_type": "code",
   "execution_count": 27,
   "metadata": {},
   "outputs": [
    {
     "data": {
      "image/png": "[encoded data removed]",
      "text/plain": [
       "<Figure size 432x288 with 1 Axes>"
      ]
     },
     "metadata": {
      "needs_background": "light"
     },
     "output_type": "display_data"
    }
   ],
   "source": [
    "# Make predictions for plot\n",
    "Y_poly_pred = clf.predict(X_poly_train)\n",
    "\n",
    "plt.scatter(X, Y, s=10)\n",
    "# sort the values of x before line plot\n",
    "sort_axis = operator.itemgetter(0)\n",
    "sorted_zip = sorted(zip(X_train,Y_poly_pred), key=sort_axis)\n",
    "X_test_z, Y_poly_pred = zip(*sorted_zip)\n",
    "plt.plot(X_test_z, Y_poly_pred, color='m')\n",
    "plt.show()"
   ]
  },
  {
   "cell_type": "code",
   "execution_count": 28,
   "metadata": {},
   "outputs": [
    {
     "name": "stdout",
     "output_type": "stream",
     "text": [
      "Coefficients: \n",
      " [[ 0.         -0.04387758 -0.15035972 -0.18513443 -0.18584354 -0.17325475\n",
      "  -0.1564661  -0.13929542 -0.12324824 -0.1088227  -0.09608613 -0.08493205\n",
      "  -0.0751943  -0.06669697 -0.05927478 -0.05278036 -0.0470856  -0.04208046\n",
      "  -0.03767105 -0.03377739 -0.03033135]]\n"
     ]
    }
   ],
   "source": [
    "# The coefficients\n",
    "print('Coefficients: \\n', clf.coef_)"
   ]
  },
  {
   "cell_type": "markdown",
   "metadata": {},
   "source": [
    "## Lasso regularization of polynomial fit"
   ]
  },
  {
   "cell_type": "code",
   "execution_count": 29,
   "metadata": {},
   "outputs": [
    {
     "data": {
      "text/plain": [
       "Lasso(alpha=0.01, copy_X=True, fit_intercept=True, max_iter=1000,\n",
       "   normalize=False, positive=False, precompute=False, random_state=None,\n",
       "   selection='cyclic', tol=0.0001, warm_start=False)"
      ]
     },
     "execution_count": 29,
     "metadata": {},
     "output_type": "execute_result"
    }
   ],
   "source": [
    "clf = linear_model.Lasso()\n",
    "\n",
    "clf.set_params(alpha=0.01)\n",
    "clf.fit(X_poly_train, Y_poly_train)"
   ]
  },
  {
   "cell_type": "code",
   "execution_count": 30,
   "metadata": {},
   "outputs": [
    {
     "data": {
      "image/png": "[encoded data removed]",
      "text/plain": [
       "<Figure size 432x288 with 1 Axes>"
      ]
     },
     "metadata": {
      "needs_background": "light"
     },
     "output_type": "display_data"
    }
   ],
   "source": [
    "# Make predictions for plot\n",
    "Y_poly_pred = clf.predict(X_poly_train)\n",
    "\n",
    "plt.scatter(X, Y, s=10)\n",
    "# sort the values of x before line plot\n",
    "sort_axis = operator.itemgetter(0)\n",
    "sorted_zip = sorted(zip(X_train,Y_poly_pred), key=sort_axis)\n",
    "X_test_z, Y_poly_pred = zip(*sorted_zip)\n",
    "plt.plot(X_test_z, Y_poly_pred, color='m')\n",
    "plt.show()"
   ]
  },
  {
   "cell_type": "code",
   "execution_count": 31,
   "metadata": {},
   "outputs": [
    {
     "name": "stdout",
     "output_type": "stream",
     "text": [
      "Coefficients: \n",
      " [ 0.          0.         -0.         -0.         -1.44504232 -0.17132867\n",
      " -0.         -0.         -0.         -0.         -0.         -0.\n",
      " -0.         -0.         -0.         -0.         -0.         -0.\n",
      " -0.         -0.         -0.        ]\n"
     ]
    }
   ],
   "source": [
    "# The coefficients\n",
    "print('Coefficients: \\n', clf.coef_)"
   ]
  },
  {
   "cell_type": "markdown",
   "metadata": {},
   "source": [
    "# Ridge regularization"
   ]
  },
  {
   "cell_type": "markdown",
   "metadata": {},
   "source": [
    "## Generate random dataset"
   ]
  },
  {
   "cell_type": "code",
   "execution_count": 32,
   "metadata": {},
   "outputs": [],
   "source": [
    "X, Y, w = make_regression(n_samples=10, n_features=30, coef=True,\n",
    "                          random_state=1, bias=3.5)"
   ]
  },
  {
   "cell_type": "code",
   "execution_count": 33,
   "metadata": {},
   "outputs": [
    {
     "name": "stdout",
     "output_type": "stream",
     "text": [
      "Coefficients: \n",
      " [ 11.45119607  -0.76260166   3.58281604 -13.32927862   8.96519079\n",
      "   2.35737674   1.14585731 -19.20726875  -9.28233318  24.83903079\n",
      "  39.94705464  13.01061195 -18.00513      9.55785479 -27.09722778\n",
      " -16.66596294  34.15737705  -5.11144826  15.83752373 -21.20679823\n",
      "  33.14841756  -5.91692192  14.56348201  13.9680289    2.66587244\n",
      " -12.28497667   0.57576766  10.45818254  31.11815504 -34.41120744]\n"
     ]
    }
   ],
   "source": [
    "model = LinearRegression()\n",
    "model.fit(X, Y)\n",
    "# The coefficients\n",
    "print('Coefficients: \\n', model.coef_)"
   ]
  },
  {
   "cell_type": "markdown",
   "metadata": {},
   "source": [
    "# Ridge regression"
   ]
  },
  {
   "cell_type": "code",
   "execution_count": 34,
   "metadata": {},
   "outputs": [
    {
     "data": {
      "image/png": "[encoded data removed]",
      "text/plain": [
       "<Figure size 432x288 with 1 Axes>"
      ]
     },
     "metadata": {
      "needs_background": "light"
     },
     "output_type": "display_data"
    }
   ],
   "source": [
    "clf = Ridge()\n",
    "coefs = []\n",
    "errors = []\n",
    "\n",
    "alphas = np.logspace(-6, 6, 200)\n",
    "\n",
    "# Train the model with different regularisation strengths\n",
    "for a in alphas:\n",
    "    clf.set_params(alpha=a)\n",
    "    clf.fit(X, Y)\n",
    "    coefs.append(clf.coef_)\n",
    "\n",
    "# Display results\n",
    "\n",
    "ax = plt.gca()\n",
    "ax.plot(alphas, coefs)\n",
    "ax.set_xscale('log')\n",
    "plt.xlabel('alpha')\n",
    "plt.ylabel('weights')\n",
    "plt.title('Ridge coefficients as a function of the regularization')\n",
    "plt.axis('tight')\n",
    "\n",
    "plt.show()"
   ]
  },
  {
   "cell_type": "markdown",
   "metadata": {},
   "source": [
    "# Lasso regularization"
   ]
  },
  {
   "cell_type": "code",
   "execution_count": 35,
   "metadata": {},
   "outputs": [
    {
     "data": {
      "image/png": "[encoded data removed]",
      "text/plain": [
       "<Figure size 432x288 with 1 Axes>"
      ]
     },
     "metadata": {
      "needs_background": "light"
     },
     "output_type": "display_data"
    }
   ],
   "source": [
    "clf = linear_model.Lasso()\n",
    "coefs = []\n",
    "errors = []\n",
    "\n",
    "alphas = np.logspace(-6, 6)\n",
    "\n",
    "# Train the model with different regularisation strengths\n",
    "for a in alphas:\n",
    "    clf.set_params(alpha=a, max_iter=10000)\n",
    "    clf.fit(X, Y)\n",
    "    coefs.append(clf.coef_)\n",
    "\n",
    "# Display results\n",
    "\n",
    "ax = plt.gca()\n",
    "ax.plot(alphas, coefs)\n",
    "ax.set_xscale('log')\n",
    "plt.xlabel('alpha')\n",
    "plt.ylabel('weights')\n",
    "plt.title('Lasso coefficients as a function of the regularization')\n",
    "plt.axis('tight')\n",
    "\n",
    "plt.show()"
   ]
  },
  {
   "cell_type": "markdown",
   "metadata": {},
   "source": [
    "# Regression on the (in)famous Boston housing dataset"
   ]
  },
  {
   "cell_type": "code",
   "execution_count": 36,
   "metadata": {},
   "outputs": [],
   "source": [
    "from sklearn.datasets import load_boston\n",
    "from sklearn.preprocessing import StandardScaler\n",
    "\n",
    "# Load data\n",
    "boston = load_boston()\n",
    "X = boston.data\n",
    "Y = boston.target\n",
    "\n",
    "# Scale features\n",
    "scaler = StandardScaler()\n",
    "X_std = scaler.fit_transform(X)"
   ]
  },
  {
   "cell_type": "code",
   "execution_count": 37,
   "metadata": {},
   "outputs": [
    {
     "name": "stdout",
     "output_type": "stream",
     "text": [
      ".. _boston_dataset:\n",
      "\n",
      "Boston house prices dataset\n",
      "---------------------------\n",
      "\n",
      "**Data Set Characteristics:**  \n",
      "\n",
      "    :Number of Instances: 506 \n",
      "\n",
      "    :Number of Attributes: 13 numeric/categorical predictive. Median Value (attribute 14) is usually the target.\n",
      "\n",
      "    :Attribute Information (in order):\n",
      "        - CRIM     per capita crime rate by town\n",
      "        - ZN       proportion of residential land zoned for lots over 25,000 sq.ft.\n",
      "        - INDUS    proportion of non-retail business acres per town\n",
      "        - CHAS     Charles River dummy variable (= 1 if tract bounds river; 0 otherwise)\n",
      "        - NOX      nitric oxides concentration (parts per 10 million)\n",
      "        - RM       average number of rooms per dwelling\n",
      "        - AGE      proportion of owner-occupied units built prior to 1940\n",
      "        - DIS      weighted distances to five Boston employment centres\n",
      "        - RAD      index of accessibility to radial highways\n",
      "        - TAX      full-value property-tax rate per $10,000\n",
      "        - PTRATIO  pupil-teacher ratio by town\n",
      "        - B        1000(Bk - 0.63)^2 where Bk is the proportion of blacks by town\n",
      "        - LSTAT    % lower status of the population\n",
      "        - MEDV     Median value of owner-occupied homes in $1000's\n",
      "\n",
      "    :Missing Attribute Values: None\n",
      "\n",
      "    :Creator: Harrison, D. and Rubinfeld, D.L.\n",
      "\n",
      "This is a copy of UCI ML housing dataset.\n",
      "https://archive.ics.uci.edu/ml/machine-learning-databases/housing/\n",
      "\n",
      "\n",
      "This dataset was taken from the StatLib library which is maintained at Carnegie Mellon University.\n",
      "\n",
      "The Boston house-price data of Harrison, D. and Rubinfeld, D.L. 'Hedonic\n",
      "prices and the demand for clean air', J. Environ. Economics & Management,\n",
      "vol.5, 81-102, 1978.   Used in Belsley, Kuh & Welsch, 'Regression diagnostics\n",
      "...', Wiley, 1980.   N.B. Various transformations are used in the table on\n",
      "pages 244-261 of the latter.\n",
      "\n",
      "The Boston house-price data has been used in many machine learning papers that address regression\n",
      "problems.   \n",
      "     \n",
      ".. topic:: References\n",
      "\n",
      "   - Belsley, Kuh & Welsch, 'Regression diagnostics: Identifying Influential Data and Sources of Collinearity', Wiley, 1980. 244-261.\n",
      "   - Quinlan,R. (1993). Combining Instance-Based and Model-Based Learning. In Proceedings on the Tenth International Conference of Machine Learning, 236-243, University of Massachusetts, Amherst. Morgan Kaufmann.\n",
      "\n"
     ]
    }
   ],
   "source": [
    "# description of the dataset\n",
    "print(boston.DESCR)"
   ]
  },
  {
   "cell_type": "code",
   "execution_count": 38,
   "metadata": {},
   "outputs": [
    {
     "data": {
      "image/png": "[encoded data removed]",
      "text/plain": [
       "<Figure size 360x288 with 1 Axes>"
      ]
     },
     "metadata": {
      "needs_background": "light"
     },
     "output_type": "display_data"
    }
   ],
   "source": [
    "plt.figure(figsize=(5, 4))\n",
    "plt.hist(boston.target)\n",
    "plt.title('Boston Housing Prices and Count Histogram')\n",
    "plt.xlabel('price ($1000s)')\n",
    "plt.ylabel('count')\n",
    "plt.show()"
   ]
  },
  {
   "cell_type": "code",
   "execution_count": 39,
   "metadata": {},
   "outputs": [
    {
     "name": "stdout",
     "output_type": "stream",
     "text": [
      "{'alpha': 91.15888299750819}\n",
      "5.569088816706782\n"
     ]
    },
    {
     "name": "stderr",
     "output_type": "stream",
     "text": [
      "/Users/aponsero/anaconda3/lib/python3.7/site-packages/sklearn/model_selection/_search.py:841: DeprecationWarning: The default of the `iid` parameter will change from True to False in version 0.22 and will be removed in 0.24. This will change numeric results when test-set sizes are unequal.\n",
      "  DeprecationWarning)\n"
     ]
    }
   ],
   "source": [
    "# prepare cross validation\n",
    "ridge = Ridge()\n",
    "# 3 fold random shuffle before split and random seed for shuffle 1\n",
    "kfold = KFold(10, True, 1)\n",
    "# enumerate alpha to test\n",
    "parameters = {'alpha': np.logspace(-6, 6, 200)}\n",
    "\n",
    "# in GridSearch because The unified scoring API always maximizes the score, so scores which \n",
    "#need to be minimized are negated in order for the unified scoring API to work correctly. \n",
    "#The score that is returned is therefore negated when it is a score that should be minimized and left \n",
    "#positive if it is a score that should be maximized.\n",
    "ridge_regressor= GridSearchCV(ridge, parameters, scoring='neg_mean_squared_error', cv=10)\n",
    "ridge_regressor.fit(X_std, Y)\n",
    "\n",
    "print(ridge_regressor.best_params_)\n",
    "best_MSE=-ridge_regressor.best_score_\n",
    "best_RMSE=np.sqrt(best_MSE)\n",
    "print(best_RMSE)"
   ]
  },
  {
   "cell_type": "code",
   "execution_count": 40,
   "metadata": {},
   "outputs": [
    {
     "name": "stdout",
     "output_type": "stream",
     "text": [
      "                0\n",
      "CRIM    -0.661156\n",
      "ZN       0.594473\n",
      "INDUS   -0.391542\n",
      "CHAS     0.741365\n",
      "NOX     -0.967147\n",
      "RM       2.791203\n",
      "AGE     -0.167069\n",
      "DIS     -1.758254\n",
      "RAD      0.755862\n",
      "TAX     -0.632341\n",
      "PTRATIO -1.682683\n",
      "B        0.785674\n",
      "LSTAT   -3.009221\n"
     ]
    }
   ],
   "source": [
    "# get coefficients for the best model\n",
    "coeff_df = pd.DataFrame(ridge_regressor.best_estimator_.coef_, boston.feature_names)  \n",
    "print(coeff_df)"
   ]
  },
  {
   "cell_type": "markdown",
   "metadata": {},
   "source": [
    "## Notes:\n",
    "It is also possible to use the RidgeCV function (but only able to maximize the R2 parameter\n",
    "\n",
    "from sklearn.linear_model import RidgeCV\n",
    "\n",
    "alpha= np.logspace(-6, 6, 200)\n",
    "\n",
    "clf = RidgeCV(alphas=alpha).fit(X, Y)\n",
    "\n",
    "clf.score(X, Y)\n",
    "\n",
    "clf.alpha_"
   ]
  },
  {
   "cell_type": "code",
   "execution_count": 42,
   "metadata": {},
   "outputs": [
    {
     "name": "stdout",
     "output_type": "stream",
     "text": [
      "{'alpha': 0.13354515629298974}\n",
      "5.81297956026396\n"
     ]
    },
    {
     "name": "stderr",
     "output_type": "stream",
     "text": [
      "/Users/aponsero/anaconda3/lib/python3.7/site-packages/sklearn/model_selection/_search.py:841: DeprecationWarning: The default of the `iid` parameter will change from True to False in version 0.22 and will be removed in 0.24. This will change numeric results when test-set sizes are unequal.\n",
      "  DeprecationWarning)\n"
     ]
    }
   ],
   "source": [
    "# Do the same for a Lasso regularisation\n",
    "# prepare cross validation\n",
    "lasso = Lasso()\n",
    "# 3 fold random shuffle before split and random seed for shuffle 1\n",
    "kfold = KFold(10, True, 1)\n",
    "# enumerate alpha to test\n",
    "parameters = {'alpha': np.logspace(-6, 6, 200)}\n",
    "\n",
    "# in GridSearch because The unified scoring API always maximizes the score, so scores which \n",
    "#need to be minimized are negated in order for the unified scoring API to work correctly. \n",
    "#The score that is returned is therefore negated when it is a score that should be minimized and left \n",
    "#positive if it is a score that should be maximized.\n",
    "lasso_regressor= GridSearchCV(lasso, parameters, scoring='neg_mean_squared_error', cv=10)\n",
    "lasso_regressor.fit(X_std, Y)\n",
    "\n",
    "print(lasso_regressor.best_params_)\n",
    "best_MSE=-lasso_regressor.best_score_\n",
    "best_RMSE=np.sqrt(best_MSE)\n",
    "print(best_RMSE)"
   ]
  },
  {
   "cell_type": "code",
   "execution_count": 44,
   "metadata": {},
   "outputs": [
    {
     "name": "stdout",
     "output_type": "stream",
     "text": [
      "                0\n",
      "CRIM    -0.533089\n",
      "ZN       0.583739\n",
      "INDUS   -0.042917\n",
      "CHAS     0.649171\n",
      "NOX     -1.416873\n",
      "RM       2.876867\n",
      "AGE     -0.000000\n",
      "DIS     -2.190183\n",
      "RAD      0.706476\n",
      "TAX     -0.436270\n",
      "PTRATIO -1.877313\n",
      "B        0.732772\n",
      "LSTAT   -3.722139\n"
     ]
    }
   ],
   "source": [
    "# get coefficients for the best model\n",
    "coeff_df = pd.DataFrame(lasso_regressor.best_estimator_.coef_, boston.feature_names)  \n",
    "print(coeff_df)"
   ]
  },
  {
   "cell_type": "code",
   "execution_count": null,
   "metadata": {},
   "outputs": [],
   "source": []
  }
 ],
 "metadata": {
  "kernelspec": {
   "display_name": "sprintenv",
   "language": "python",
   "name": "sprintenv"
  },
  "language_info": {
   "codemirror_mode": {
    "name": "ipython",
    "version": 3
   },
   "file_extension": ".py",
   "mimetype": "text/x-python",
   "name": "python",
   "nbconvert_exporter": "python",
   "pygments_lexer": "ipython3",
   "version": "3.7.3"
  }
 },
 "nbformat": 4,
 "nbformat_minor": 2
}
